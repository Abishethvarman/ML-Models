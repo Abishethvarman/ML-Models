{
  "nbformat": 4,
  "nbformat_minor": 0,
  "metadata": {
    "colab": {
      "provenance": [],
      "authorship_tag": "ABX9TyNzkm6MTjkXB1nDuZ39UMQk",
      "include_colab_link": true
    },
    "kernelspec": {
      "name": "python3",
      "display_name": "Python 3"
    },
    "language_info": {
      "name": "python"
    }
  },
  "cells": [
    {
      "cell_type": "markdown",
      "metadata": {
        "id": "view-in-github",
        "colab_type": "text"
      },
      "source": [
        "<a href=\"https://colab.research.google.com/github/Abishethvarman/ML-Models/blob/main/Arch_NB.ipynb\" target=\"_parent\"><img src=\"https://colab.research.google.com/assets/colab-badge.svg\" alt=\"Open In Colab\"/></a>"
      ]
    },
    {
      "cell_type": "code",
      "source": [
        "import pandas as pd\n",
        "from sklearn.model_selection import train_test_split\n",
        "from sklearn.feature_extraction.text import CountVectorizer\n",
        "from sklearn.naive_bayes import MultinomialNB\n",
        "from sklearn.metrics import classification_report, accuracy_score"
      ],
      "metadata": {
        "id": "tckQbaIfU8-X"
      },
      "execution_count": null,
      "outputs": []
    },
    {
      "cell_type": "code",
      "source": [
        "from google.colab import drive\n",
        "drive.mount('/content/gdrive')\n",
        "\n",
        "!ln -s /content/gdrive/My\\ Drive/ /mydrive\n",
        "!ls /mydrive\n",
        "\n",
        "%cd /mydrive/dataset/"
      ],
      "metadata": {
        "id": "-LRGdmWOU_wd"
      },
      "execution_count": null,
      "outputs": []
    },
    {
      "cell_type": "code",
      "source": [
        "df = pd.read_csv(\"arch_DS2.csv\", encoding='latin1')"
      ],
      "metadata": {
        "id": "-QPQoIkfVOZ1"
      },
      "execution_count": null,
      "outputs": []
    },
    {
      "cell_type": "code",
      "source": [
        "df"
      ],
      "metadata": {
        "colab": {
          "base_uri": "https://localhost:8080/",
          "height": 863
        },
        "id": "fGcsj2ABVbYt",
        "outputId": "8c20e609-5189-4f8b-9828-7c17efc33c10"
      },
      "execution_count": null,
      "outputs": [
        {
          "output_type": "execute_result",
          "data": {
            "text/plain": [
              "             word label\n",
              "0     Information     A\n",
              "1      technology     A\n",
              "2              is     A\n",
              "3               a     A\n",
              "4           field     A\n",
              "...           ...   ...\n",
              "1777         jolt     C\n",
              "1778         hiss     C\n",
              "1779        glove     C\n",
              "1780        flute     C\n",
              "1781        swarm     C\n",
              "\n",
              "[1782 rows x 2 columns]"
            ],
            "text/html": [
              "\n",
              "  <div id=\"df-ee1ed76d-9d1e-4417-a2be-13339025ea2c\" class=\"colab-df-container\">\n",
              "    <div>\n",
              "<style scoped>\n",
              "    .dataframe tbody tr th:only-of-type {\n",
              "        vertical-align: middle;\n",
              "    }\n",
              "\n",
              "    .dataframe tbody tr th {\n",
              "        vertical-align: top;\n",
              "    }\n",
              "\n",
              "    .dataframe thead th {\n",
              "        text-align: right;\n",
              "    }\n",
              "</style>\n",
              "<table border=\"1\" class=\"dataframe\">\n",
              "  <thead>\n",
              "    <tr style=\"text-align: right;\">\n",
              "      <th></th>\n",
              "      <th>word</th>\n",
              "      <th>label</th>\n",
              "    </tr>\n",
              "  </thead>\n",
              "  <tbody>\n",
              "    <tr>\n",
              "      <th>0</th>\n",
              "      <td>Information</td>\n",
              "      <td>A</td>\n",
              "    </tr>\n",
              "    <tr>\n",
              "      <th>1</th>\n",
              "      <td>technology</td>\n",
              "      <td>A</td>\n",
              "    </tr>\n",
              "    <tr>\n",
              "      <th>2</th>\n",
              "      <td>is</td>\n",
              "      <td>A</td>\n",
              "    </tr>\n",
              "    <tr>\n",
              "      <th>3</th>\n",
              "      <td>a</td>\n",
              "      <td>A</td>\n",
              "    </tr>\n",
              "    <tr>\n",
              "      <th>4</th>\n",
              "      <td>field</td>\n",
              "      <td>A</td>\n",
              "    </tr>\n",
              "    <tr>\n",
              "      <th>...</th>\n",
              "      <td>...</td>\n",
              "      <td>...</td>\n",
              "    </tr>\n",
              "    <tr>\n",
              "      <th>1777</th>\n",
              "      <td>jolt</td>\n",
              "      <td>C</td>\n",
              "    </tr>\n",
              "    <tr>\n",
              "      <th>1778</th>\n",
              "      <td>hiss</td>\n",
              "      <td>C</td>\n",
              "    </tr>\n",
              "    <tr>\n",
              "      <th>1779</th>\n",
              "      <td>glove</td>\n",
              "      <td>C</td>\n",
              "    </tr>\n",
              "    <tr>\n",
              "      <th>1780</th>\n",
              "      <td>flute</td>\n",
              "      <td>C</td>\n",
              "    </tr>\n",
              "    <tr>\n",
              "      <th>1781</th>\n",
              "      <td>swarm</td>\n",
              "      <td>C</td>\n",
              "    </tr>\n",
              "  </tbody>\n",
              "</table>\n",
              "<p>1782 rows × 2 columns</p>\n",
              "</div>\n",
              "    <div class=\"colab-df-buttons\">\n",
              "\n",
              "  <div class=\"colab-df-container\">\n",
              "    <button class=\"colab-df-convert\" onclick=\"convertToInteractive('df-ee1ed76d-9d1e-4417-a2be-13339025ea2c')\"\n",
              "            title=\"Convert this dataframe to an interactive table.\"\n",
              "            style=\"display:none;\">\n",
              "\n",
              "  <svg xmlns=\"http://www.w3.org/2000/svg\" height=\"24px\" viewBox=\"0 -960 960 960\">\n",
              "    <path d=\"M120-120v-720h720v720H120Zm60-500h600v-160H180v160Zm220 220h160v-160H400v160Zm0 220h160v-160H400v160ZM180-400h160v-160H180v160Zm440 0h160v-160H620v160ZM180-180h160v-160H180v160Zm440 0h160v-160H620v160Z\"/>\n",
              "  </svg>\n",
              "    </button>\n",
              "\n",
              "  <style>\n",
              "    .colab-df-container {\n",
              "      display:flex;\n",
              "      gap: 12px;\n",
              "    }\n",
              "\n",
              "    .colab-df-convert {\n",
              "      background-color: #E8F0FE;\n",
              "      border: none;\n",
              "      border-radius: 50%;\n",
              "      cursor: pointer;\n",
              "      display: none;\n",
              "      fill: #1967D2;\n",
              "      height: 32px;\n",
              "      padding: 0 0 0 0;\n",
              "      width: 32px;\n",
              "    }\n",
              "\n",
              "    .colab-df-convert:hover {\n",
              "      background-color: #E2EBFA;\n",
              "      box-shadow: 0px 1px 2px rgba(60, 64, 67, 0.3), 0px 1px 3px 1px rgba(60, 64, 67, 0.15);\n",
              "      fill: #174EA6;\n",
              "    }\n",
              "\n",
              "    .colab-df-buttons div {\n",
              "      margin-bottom: 4px;\n",
              "    }\n",
              "\n",
              "    [theme=dark] .colab-df-convert {\n",
              "      background-color: #3B4455;\n",
              "      fill: #D2E3FC;\n",
              "    }\n",
              "\n",
              "    [theme=dark] .colab-df-convert:hover {\n",
              "      background-color: #434B5C;\n",
              "      box-shadow: 0px 1px 3px 1px rgba(0, 0, 0, 0.15);\n",
              "      filter: drop-shadow(0px 1px 2px rgba(0, 0, 0, 0.3));\n",
              "      fill: #FFFFFF;\n",
              "    }\n",
              "  </style>\n",
              "\n",
              "    <script>\n",
              "      const buttonEl =\n",
              "        document.querySelector('#df-ee1ed76d-9d1e-4417-a2be-13339025ea2c button.colab-df-convert');\n",
              "      buttonEl.style.display =\n",
              "        google.colab.kernel.accessAllowed ? 'block' : 'none';\n",
              "\n",
              "      async function convertToInteractive(key) {\n",
              "        const element = document.querySelector('#df-ee1ed76d-9d1e-4417-a2be-13339025ea2c');\n",
              "        const dataTable =\n",
              "          await google.colab.kernel.invokeFunction('convertToInteractive',\n",
              "                                                    [key], {});\n",
              "        if (!dataTable) return;\n",
              "\n",
              "        const docLinkHtml = 'Like what you see? Visit the ' +\n",
              "          '<a target=\"_blank\" href=https://colab.research.google.com/notebooks/data_table.ipynb>data table notebook</a>'\n",
              "          + ' to learn more about interactive tables.';\n",
              "        element.innerHTML = '';\n",
              "        dataTable['output_type'] = 'display_data';\n",
              "        await google.colab.output.renderOutput(dataTable, element);\n",
              "        const docLink = document.createElement('div');\n",
              "        docLink.innerHTML = docLinkHtml;\n",
              "        element.appendChild(docLink);\n",
              "      }\n",
              "    </script>\n",
              "  </div>\n",
              "\n",
              "\n",
              "<div id=\"df-bca8438f-7a41-49f0-9cdc-9ec619f00b30\">\n",
              "  <button class=\"colab-df-quickchart\" onclick=\"quickchart('df-bca8438f-7a41-49f0-9cdc-9ec619f00b30')\"\n",
              "            title=\"Suggest charts\"\n",
              "            style=\"display:none;\">\n",
              "\n",
              "<svg xmlns=\"http://www.w3.org/2000/svg\" height=\"24px\"viewBox=\"0 0 24 24\"\n",
              "     width=\"24px\">\n",
              "    <g>\n",
              "        <path d=\"M19 3H5c-1.1 0-2 .9-2 2v14c0 1.1.9 2 2 2h14c1.1 0 2-.9 2-2V5c0-1.1-.9-2-2-2zM9 17H7v-7h2v7zm4 0h-2V7h2v10zm4 0h-2v-4h2v4z\"/>\n",
              "    </g>\n",
              "</svg>\n",
              "  </button>\n",
              "\n",
              "<style>\n",
              "  .colab-df-quickchart {\n",
              "      --bg-color: #E8F0FE;\n",
              "      --fill-color: #1967D2;\n",
              "      --hover-bg-color: #E2EBFA;\n",
              "      --hover-fill-color: #174EA6;\n",
              "      --disabled-fill-color: #AAA;\n",
              "      --disabled-bg-color: #DDD;\n",
              "  }\n",
              "\n",
              "  [theme=dark] .colab-df-quickchart {\n",
              "      --bg-color: #3B4455;\n",
              "      --fill-color: #D2E3FC;\n",
              "      --hover-bg-color: #434B5C;\n",
              "      --hover-fill-color: #FFFFFF;\n",
              "      --disabled-bg-color: #3B4455;\n",
              "      --disabled-fill-color: #666;\n",
              "  }\n",
              "\n",
              "  .colab-df-quickchart {\n",
              "    background-color: var(--bg-color);\n",
              "    border: none;\n",
              "    border-radius: 50%;\n",
              "    cursor: pointer;\n",
              "    display: none;\n",
              "    fill: var(--fill-color);\n",
              "    height: 32px;\n",
              "    padding: 0;\n",
              "    width: 32px;\n",
              "  }\n",
              "\n",
              "  .colab-df-quickchart:hover {\n",
              "    background-color: var(--hover-bg-color);\n",
              "    box-shadow: 0 1px 2px rgba(60, 64, 67, 0.3), 0 1px 3px 1px rgba(60, 64, 67, 0.15);\n",
              "    fill: var(--button-hover-fill-color);\n",
              "  }\n",
              "\n",
              "  .colab-df-quickchart-complete:disabled,\n",
              "  .colab-df-quickchart-complete:disabled:hover {\n",
              "    background-color: var(--disabled-bg-color);\n",
              "    fill: var(--disabled-fill-color);\n",
              "    box-shadow: none;\n",
              "  }\n",
              "\n",
              "  .colab-df-spinner {\n",
              "    border: 2px solid var(--fill-color);\n",
              "    border-color: transparent;\n",
              "    border-bottom-color: var(--fill-color);\n",
              "    animation:\n",
              "      spin 1s steps(1) infinite;\n",
              "  }\n",
              "\n",
              "  @keyframes spin {\n",
              "    0% {\n",
              "      border-color: transparent;\n",
              "      border-bottom-color: var(--fill-color);\n",
              "      border-left-color: var(--fill-color);\n",
              "    }\n",
              "    20% {\n",
              "      border-color: transparent;\n",
              "      border-left-color: var(--fill-color);\n",
              "      border-top-color: var(--fill-color);\n",
              "    }\n",
              "    30% {\n",
              "      border-color: transparent;\n",
              "      border-left-color: var(--fill-color);\n",
              "      border-top-color: var(--fill-color);\n",
              "      border-right-color: var(--fill-color);\n",
              "    }\n",
              "    40% {\n",
              "      border-color: transparent;\n",
              "      border-right-color: var(--fill-color);\n",
              "      border-top-color: var(--fill-color);\n",
              "    }\n",
              "    60% {\n",
              "      border-color: transparent;\n",
              "      border-right-color: var(--fill-color);\n",
              "    }\n",
              "    80% {\n",
              "      border-color: transparent;\n",
              "      border-right-color: var(--fill-color);\n",
              "      border-bottom-color: var(--fill-color);\n",
              "    }\n",
              "    90% {\n",
              "      border-color: transparent;\n",
              "      border-bottom-color: var(--fill-color);\n",
              "    }\n",
              "  }\n",
              "</style>\n",
              "\n",
              "  <script>\n",
              "    async function quickchart(key) {\n",
              "      const quickchartButtonEl =\n",
              "        document.querySelector('#' + key + ' button');\n",
              "      quickchartButtonEl.disabled = true;  // To prevent multiple clicks.\n",
              "      quickchartButtonEl.classList.add('colab-df-spinner');\n",
              "      try {\n",
              "        const charts = await google.colab.kernel.invokeFunction(\n",
              "            'suggestCharts', [key], {});\n",
              "      } catch (error) {\n",
              "        console.error('Error during call to suggestCharts:', error);\n",
              "      }\n",
              "      quickchartButtonEl.classList.remove('colab-df-spinner');\n",
              "      quickchartButtonEl.classList.add('colab-df-quickchart-complete');\n",
              "    }\n",
              "    (() => {\n",
              "      let quickchartButtonEl =\n",
              "        document.querySelector('#df-bca8438f-7a41-49f0-9cdc-9ec619f00b30 button');\n",
              "      quickchartButtonEl.style.display =\n",
              "        google.colab.kernel.accessAllowed ? 'block' : 'none';\n",
              "    })();\n",
              "  </script>\n",
              "</div>\n",
              "    </div>\n",
              "  </div>\n"
            ]
          },
          "metadata": {},
          "execution_count": 6
        },
        {
          "output_type": "display_data",
          "data": {
            "text/plain": [
              "<google.colab._quickchart_helpers.SectionTitle at 0x7bd460bb6140>"
            ],
            "text/html": [
              "<h4 class=\"colab-quickchart-section-title\">Categorical distributions</h4>\n",
              "<style>\n",
              "  .colab-quickchart-section-title {\n",
              "      clear: both;\n",
              "  }\n",
              "</style>"
            ]
          },
          "metadata": {}
        },
        {
          "output_type": "display_data",
          "data": {
            "text/plain": [
              "from matplotlib import pyplot as plt\n",
              "import seaborn as sns\n",
              "df.groupby('label').size().plot(kind='barh', color=sns.palettes.mpl_palette('Dark2'))\n",
              "plt.gca().spines[['top', 'right',]].set_visible(False)"
            ],
            "text/html": [
              "      <div class=\"colab-quickchart-chart-with-code\" id=\"chart-7aa40fd5-1bc2-4cc9-ba37-1c7c714ccb72\">\n",
              "        <img style=\"width: 180px;\" src=\"data:image/png;base64,iVBORw0KGgoAAAANSUhEUgAAAiEAAAGZCAYAAABfZuECAAAAOXRFWHRTb2Z0d2FyZQBNYXRwbG90\n",
              "bGliIHZlcnNpb24zLjcuMSwgaHR0cHM6Ly9tYXRwbG90bGliLm9yZy/bCgiHAAAACXBIWXMAAA9h\n",
              "AAAPYQGoP6dpAAATT0lEQVR4nO3de4xdZbnA4XfTKVuKMJ2WIFpoR2yLlmmnV1qrUpSDXLwREWti\n",
              "0kIqjSRGPUbTNNGgxDjoaXpC/EPU1HLUiJW2VgwXJUKARJGSUokVPa106KAFpZcZRB16+c4fxolz\n",
              "LNOOzpp3ZvM8yU7atfbs9ebLSvvLWnvvqZVSSgAADLOTsgcAAF6eRAgAkEKEAAApRAgAkEKEAAAp\n",
              "RAgAkEKEAAApRAgAkEKEAAApRnyE3HzzzdkjAAAVGPER8tRTT2WPAABUYMRHCADQmEQIAJBChAAA\n",
              "KUQIAJBChAAAKUQIAJBChAAAKUQIAJBChAAAKUQIAJBChAAAKUQIAJBChAAAKUQIAJBChAAAKUQI\n",
              "AJBChAAAKUQIAJBChAAAKUQIAJBChAAAKZqyBzieF/7n0Xjmnv/KHgOARGf96lPZI1ABV0IAgBQi\n",
              "BABIIUIAgBQiBABIIUIAgBQiBABIIUIAgBQiBABIIUIAgBQiBABIIUIAgBQiBABIIUIAgBQiBABI\n",
              "IUIAgBQiBABIIUIAgBQiBABI0VTli7e2tka9Xo9XvOIV8cILL8T5558fq1atisWLF1d5WABgFKj8\n",
              "SsiGDRviF7/4RezatSuWL18eV1xxRfz85z+v+rAAwAg3rLdj3vve98aHP/zhWLNmzXAeFgAYgSq9\n",
              "HXMsCxcujDvuuOOY+3p7e6O3t7fftiPl6HCMBQAMs2F/Y2op5SX3dXR0RHNzc7/H9r90DeN0AMBw\n",
              "GfYI2bp1a7S1tR1z3+rVq6O7u7vfY/Yp5wzzhADAcBjW2zE/+MEP4itf+Ur86Ec/Oub+er0e9Xq9\n",
              "37YxNZ8iBoBGVHmELF26tO8jujNmzIi77rorFi5cWPVhAYARrtII6ezsrPLlAYBRzL0OACCFCAEA\n",
              "UogQACCFCAEAUogQACCFCAEAUogQACCFCAEAUogQACCFCAEAUogQACCFCAEAUogQACCFCAEAUogQ\n",
              "ACCFCAEAUogQACCFCAEAUjRlD3A8py6fH2et/VT2GADAEHMlBABIIUIAgBQiBABIIUIAgBQiBABI\n",
              "IUIAgBQiBABIIUIAgBQiBABIIUIAgBQiBABIIUIAgBQiBABIIUIAgBQiBABIIUIAgBQiBABIIUIA\n",
              "gBQiBABIIUIAgBQiBABIIUIAgBQiBABIIUIAgBQiBABIIUIAgBQiBABIIUIAgBQiBABIIUIAgBQi\n",
              "BABIIUIAgBQiBABIIUIAgBQiBABIIUIAgBQiBABIIUIAgBQiBABIIUIAgBQiBABIIUIAgBQiBABI\n",
              "IUIAgBQiBABIUSullOwhBjJ/7pXxtiUfyh4DgBP0pf9+Z/YIjBKuhAAAKUQIAJBChAAAKUQIAJBC\n",
              "hAAAKUQIAJBChAAAKUQIAJBChAAAKUQIAJBChAAAKUQIAJBChAAAKUQIAJBChAAAKUQIAJBChAAA\n",
              "KUQIAJBChAAAKSqPkMOHD8fnPve5eP3rXx9tbW0xe/bsWLlyZRw8eLDqQwMAI1hT1QdYsWJF7N+/\n",
              "P372s59FS0tLlFJi48aNsX///hg/fnzVhwcARqhKI2TXrl1x++23x549e6KlpSUiImq1Wlx99dXH\n",
              "fH5vb2/09vb221aOHq1yRAAgSaW3Y7Zt2xbTpk2LM84444Se39HREc3Nzf0ee5/93ypHBACSjKg3\n",
              "pq5evTq6u7v7PV79qunZYwEAFaj0dszcuXNj586dsW/fvpg4ceJxn1+v16Ner/fbVjtpRHUSADBE\n",
              "Kv0ffurUqXHVVVfFihUr+j4NU0qJTZs2xZNPPlnloQGAEa7yywzf+MY3or29PRYuXBjnn39+zJgx\n",
              "I3784x/HhAkTqj40ADCC1UopJXuIgcyfe2W8bcmHsscA4AR96b/fmT0Co4Q3XAAAKUQIAJBChAAA\n",
              "KUQIAJBChAAAKUQIAJBChAAAKUQIAJBChAAAKUQIAJBChAAAKUQIAJBChAAAKUQIAJBChAAAKUQI\n",
              "AJBChAAAKZqyBzieCy86N7609p3ZYwAAQ8yVEAAghQgBAFKIEAAghQgBAFKIEAAghQgBAFKIEAAg\n",
              "hQgBAFKIEAAghQgBAFKIEAAghQgBAFKc8C+wa2lpiVqt9k/bSylRq9Vi//79QzoYANDYTjhCtm/f\n",
              "XuEYAMDLzQlHyJQpU/r+vHfv3vjNb34TF110URw+fDiOHj1ayXAAQOMa9HtCNm7cGIsWLYprrrkm\n",
              "IiJ27NgRV1555RCPBQA0ukFHSEdHR2zbti1aWloiIqK9vT2eeuqpIR8MAGhsg46QMWPGxMSJE/tt\n",
              "O/nkk4dsIADg5WHQEXLaaafFs88+2/dJmZ/85CcxYcKEIR8MAGhsJ/zG1L/74he/GJdffnk8+eST\n",
              "8eY3vzl2794dd955ZxWzAQANbNARMn/+/Lj//vvjpz/9aZRSYvHixTF+/PgKRgMAGtm/9I2p3d3d\n",
              "sW/fvjhw4EA8//zzQz0TAPAyMOgI+c53vhNz5syJzZs3x8aNG2Pu3Lnx3e9+t4rZAIAGNujbMTfe\n",
              "eGM8+uij8drXvjYiIjo7O+Oyyy6LD3zgA0M+HADQuAZ9JWTcuHF9ARIR0draGuPGjRvSoQCAxnfC\n",
              "EdLT0xM9PT3xjne8Iz772c/G008/HV1dXXHjjTfGu971ripnBAAaUK2UUk7kiSeddFLUarU41tNr\n",
              "tVocOXJkyIeLiPjEJz4Ra9eureS1AYA8J/yeEL+kDgAYSv/SR3QBAP5dg46QnTt3xuWXXx6vec1r\n",
              "YsKECX0PAIDBGHSEXHfddXHNNddES0tLPPDAA/G+970vPvnJT1YxGwDQwAYdIT09PbF06dI46aST\n",
              "YubMmfHVr341tmzZUsFoAEAjG3SEjB07NiL+9tt0Ozs7o7e3N5577rkhHwwAaGyD/sbUCy+8MPbt\n",
              "2xcf+chHYt68eXHyySf7tlQAYNBO+HtCjqWrqyu6u7ujra1tKGfqx/eEAEBjOuErIT09Pf+0rbm5\n",
              "OZqbm6OnpydOP/30IR0MAGhsJxwh48eP/6dvTP3736v8xlQAoDH5xlQAIIVvTAUAUogQACCFCAEA\n",
              "UogQACCFCAEAUogQACCFCAEAUogQACDFv/W7Y4bDtefXYvUCrQQAQ2n6rfnfdO5/dwAghQgBAFKI\n",
              "EAAghQgBAFKIEAAghQgBAFKIEAAghQgBAFKIEAAghQgBAFKIEAAghQgBAFKIEAAghQgBAFKIEAAg\n",
              "hQgBAFKIEAAghQgBAFI0Vfnira2tUa/X45RTTone3t6YM2dOfP3rX49TTz21ysMCAKNA5VdCNmzY\n",
              "ENu3b48dO3ZEd3d33HrrrVUfEgAYBYbtdsyLL74Yf/7zn6OlpWW4DgkAjGCV3o6JiFi6dGmccsop\n",
              "0dnZGfPmzYv3v//9L/nc3t7e6O3t7bftyNGqJwQAMgzb7ZjnnnsuWltbY9WqVS/53I6Ojmhubu73\n",
              "ePy5qicEADIM2+2YpqamuOqqq+Kee+55yeesXr06uru7+z1mnTFcEwIAw6ny2zH/6L777ovzzjvv\n",
              "JffX6/Wo1+v9to3xIWIAaEjD9p6Qw4cPx5QpU+KWW26p+pAAwChQaYR0dnZW+fIAwCjmZgcAkEKE\n",
              "AAApRAgAkEKEAAApRAgAkEKEAAApRAgAkEKEAAApRAgAkEKEAAApRAgAkEKEAAApRAgAkEKEAAAp\n",
              "RAgAkEKEAAApRAgAkEKEAAApmrIHOJ6WS/8zpq9dmz0GADDEXAkBAFKIEAAghQgBAFKIEAAghQgB\n",
              "AFKIEAAghQgBAFKIEAAghQgBAFKIEAAghQgBAFKIEAAghQgBAFKIEAAghQgBAFKIEAAghQgBAFKI\n",
              "EAAghQgBAFKIEAAghQgBAFKIEAAghQgBAFKIEAAghQgBAFKIEAAghQgBAFKIEAAghQgBAFKIEAAg\n",
              "hQgBAFKIEAAghQgBAFKIEAAghQgBAFKIEAAghQgBAFKIEAAghQgBAFKIEAAghQgBAFKIEAAghQgB\n",
              "AFKIEAAghQgBAFLUSikle4iBvPLSBTH+AxdnjwHACPD0tTdlj8AQciUEAEghQgCAFCIEAEghQgCA\n",
              "FCIEAEghQgCAFCIEAEghQgCAFCIEAEghQgCAFCIEAEghQgCAFCIEAEghQgCAFCIEAEghQgCAFCIE\n",
              "AEghQgCAFJVHyPPPPx+vfOUrY8WKFVUfCgAYRSqPkA0bNsS8efNi8+bN8ac//anqwwEAo0TlEbJu\n",
              "3bpYtWpVXHjhhbFhw4aqDwcAjBJNVb74r371q+jq6opLL700Dh8+HDfddNOAt2V6e3ujt7e3/8Yj\n",
              "pcoRAYAklV4JWbduXSxbtizGjBkTV1xxRezevTueeOKJl3x+R0dHNDc393u8uHtvlSMCAElqpZRK\n",
              "LjUcOnQoJk2aFGPHjo2xY8dGRMSBAwfiuuuuizVr1hzzZ451JeQ1731bjP/gf1QxIgCjzNPX3pQ9\n",
              "AkOostsxd9xxR5x77rnx8MMP92174okn4qKLLoqOjo6+MPlH9Xo96vV6/41jalWNCAAkqux2zLp1\n",
              "6+KDH/xgv21veMMbYtKkSfHDH/6wqsMCAKNEZVdC7rrrrmNu37ZtW1WHBABGEd+YCgCkECEAQAoR\n",
              "AgCkECEAQAoRAgCkECEAQAoRAgCkECEAQAoRAgCkECEAQAoRAgCkECEAQAoRAgCkECEAQAoRAgCk\n",
              "ECEAQAoRAgCkECEAQIqm7AGOZ+X5b4m1196UPQYAMMRcCQEAUogQACCFCAEAUogQACCFCAEAUogQ\n",
              "ACCFCAEAUogQACCFCAEAUogQACCFCAEAUogQACCFCAEAUogQACCFCAEAUogQACCFCAEAUogQACCF\n",
              "CAEAUogQACCFCAEAUogQACBFU/YAA+nt7Y277747jhw5EmPGjMkep2EdOXIkHnnkkbjgggusc8Ws\n",
              "9fCx1sPDOg+f0bbWU6ZMiY997GMDPqdWSinDNM+g9fT0RHNzc3R3d8fpp5+ePU7Dss7Dx1oPH2s9\n",
              "PKzz8GnEtXY7BgBIIUIAgBQiBABIMaIjpF6vxw033BD1ej17lIZmnYePtR4+1np4WOfh04hrPaLf\n",
              "mAoANK4RfSUEAGhcIgQASCFCAIAUIzZCdu7cGYsXL47p06fHggULYseOHdkjjVof/ehHo7W1NWq1\n",
              "Wmzfvr1v+0BrbP0H769//WtceeWVMX369Ghvb49LLrkkdu3aFRERf/jDH+Kyyy6LadOmRVtbWzz4\n",
              "4IN9PzfQPl7a29/+9pg1a1bMnj073vKWt8Rjjz0WEc7rqqxfvz5qtVps2bIlIpzTVWhtbY3zzjsv\n",
              "Zs+eHbNnz44NGzZERIOf02WEeutb31rWr19fSinl9ttvL/Pnz88daBR74IEHSldXV5kyZUp57LHH\n",
              "+rYPtMbWf/D+8pe/lDvvvLMcPXq0lFLKl7/85bJkyZJSSinXXnttueGGG0oppTzyyCNl0qRJ5cUX\n",
              "XzzuPl7agQMH+v68efPmMmvWrFKK87oKu3fvLm984xvLokWLyve///1SinO6Cv//3+i/a+RzekRG\n",
              "yLPPPltOO+20cujQoVJKKUePHi2vetWrys6dO5MnG93+8QQfaI2t/9DYunVrmTJlSimllFNPPbXs\n",
              "3bu3b9+CBQvKvffee9x9nJj169eX9vZ253UFjhw5Ui6++OLy6KOPliVLlvRFiHN66B0rQhr9nB6R\n",
              "t2O6urri1a9+dTQ1/e3369VqtZg8eXLs2bMnebLGMdAaW/+hcfPNN8d73vOe2LdvXxw6dCjOOuus\n",
              "vn2tra2xZ8+eAfdxfMuWLYtzzjknPvOZz8S3vvUt53UF1q5dG29605ti3rx5fduc09VZtmxZzJw5\n",
              "M1asWBF//OMfG/6cHpERAqPdF77whdi1a1d0dHRkj9LQvvnNb0ZXV1d8/vOfj1WrVmWP03B++ctf\n",
              "xqZNm+LTn/509igvCw8++GA8/vjjsW3btjjjjDNi+fLl2SNVbkRGyDnnnBN79+6Nw4cPR0REKSX2\n",
              "7NkTkydPTp6scQy0xtb/37NmzZrYvHlz3H333TFu3LiYOHFiNDU1xTPPPNP3nM7Ozpg8efKA+zhx\n",
              "y5cvj/vvvz/OPvts5/UQeuihh6KzszOmTZsWra2t8fDDD8fKlSvje9/7nnO6An9fo7Fjx8bHP/7x\n",
              "eOihhxr+3+oRGSFnnnlmzJ07N7797W9HRMSmTZvi7LPPjqlTpyZP1jgGWmPr/69bu3Zt3HbbbXHv\n",
              "vffG+PHj+7ZfffXVccstt0RExNatW+N3v/tdLFmy5Lj7OLaDBw/G73//+76/b9myJSZOnOi8HmLX\n",
              "X3997N27Nzo7O6OzszMWLVoUX/va1+L66693Tg+xF154IQ4ePNj399tuuy3mzJnT+Od04vtRBvTr\n",
              "X/+6LFq0qEybNq3MmzevPP7449kjjVorV64skyZNKmPGjClnnnlmed3rXldKGXiNrf/gdXV1lYgo\n",
              "5557bmlvby/t7e3lggsuKKWU8swzz5RLLrmkTJ06tcyYMaPcd999fT830D6OrbOzsyxYsKC0tbWV\n",
              "WbNmlYsvvrjvDX3O6+r84xtTndND67e//W2ZPXt2mTlzZmlrayvvfve7y+7du0spjX1O+90xAECK\n",
              "EXk7BgBofCIEAEghQgCAFCIEAEghQgCAFCIEAEghQgCAFCIEAEghQgCAFCIEAEghQgCAFP8HMA2d\n",
              "yQnMAfoAAAAASUVORK5CYII=\n",
              "\">\n",
              "      </div>\n",
              "      <script type=\"text/javascript\">\n",
              "        (() => {\n",
              "          const chartElement = document.getElementById(\"chart-7aa40fd5-1bc2-4cc9-ba37-1c7c714ccb72\");\n",
              "          async function getCodeForChartHandler(event) {\n",
              "            const chartCodeResponse =  await google.colab.kernel.invokeFunction(\n",
              "                'getCodeForChart', [\"chart-7aa40fd5-1bc2-4cc9-ba37-1c7c714ccb72\"], {});\n",
              "            const responseJson = chartCodeResponse.data['application/json'];\n",
              "            await google.colab.notebook.addCell(responseJson.code, 'code');\n",
              "          }\n",
              "          chartElement.onclick = getCodeForChartHandler;\n",
              "        })();\n",
              "      </script>\n",
              "      <style>\n",
              "        .colab-quickchart-chart-with-code  {\n",
              "            display: block;\n",
              "            float: left;\n",
              "            border: 1px solid transparent;\n",
              "        }\n",
              "\n",
              "        .colab-quickchart-chart-with-code:hover {\n",
              "            cursor: pointer;\n",
              "            border: 1px solid #aaa;\n",
              "        }\n",
              "      </style>"
            ]
          },
          "metadata": {}
        }
      ]
    },
    {
      "cell_type": "code",
      "source": [
        "df.shape"
      ],
      "metadata": {
        "colab": {
          "base_uri": "https://localhost:8080/"
        },
        "id": "fJuYjD4_VdYq",
        "outputId": "6e871855-5834-4038-835a-6c00dffb11f7"
      },
      "execution_count": null,
      "outputs": [
        {
          "output_type": "execute_result",
          "data": {
            "text/plain": [
              "(1782, 2)"
            ]
          },
          "metadata": {},
          "execution_count": 7
        }
      ]
    },
    {
      "cell_type": "code",
      "source": [
        "df['label'].unique()"
      ],
      "metadata": {
        "colab": {
          "base_uri": "https://localhost:8080/"
        },
        "id": "m8huALpfVfqm",
        "outputId": "30b07ada-58cc-4239-df77-2ef69d6a493a"
      },
      "execution_count": null,
      "outputs": [
        {
          "output_type": "execute_result",
          "data": {
            "text/plain": [
              "array(['A', 'B', 'D', 'C'], dtype=object)"
            ]
          },
          "metadata": {},
          "execution_count": 8
        }
      ]
    },
    {
      "cell_type": "code",
      "source": [
        "desired_count = 400\n",
        "\n",
        "adjusted_df = pd.DataFrame(columns=['word', 'label'])\n",
        "\n",
        "for label in df['label'].unique():\n",
        "    label_subset = df[df['label'] == label].sample(desired_count)\n",
        "    adjusted_df = pd.concat([adjusted_df, label_subset])\n",
        "\n",
        "adjusted_df.reset_index(drop=True, inplace=True)\n",
        "\n",
        "print(adjusted_df)"
      ],
      "metadata": {
        "colab": {
          "base_uri": "https://localhost:8080/"
        },
        "id": "ncokk514Y-Ol",
        "outputId": "4b668828-e569-41b2-d195-a8f5d5bf2c80"
      },
      "execution_count": null,
      "outputs": [
        {
          "output_type": "stream",
          "name": "stdout",
          "text": [
            "              word label\n",
            "0            space     A\n",
            "1           Zealot     A\n",
            "2            live.     A\n",
            "3            A lot     A\n",
            "4         resulted     A\n",
            "...            ...   ...\n",
            "1595         glove     C\n",
            "1596      constend     C\n",
            "1597    insessiont     C\n",
            "1598     continuos     C\n",
            "1599  metomophaces     C\n",
            "\n",
            "[1600 rows x 2 columns]\n"
          ]
        }
      ]
    },
    {
      "cell_type": "code",
      "source": [
        "label_counts = adjusted_df['label'].value_counts()\n",
        "print(label_counts)"
      ],
      "metadata": {
        "colab": {
          "base_uri": "https://localhost:8080/"
        },
        "id": "79csmbhsZDWm",
        "outputId": "69483461-74e6-4428-ba39-0d6d3c3a2f0f"
      },
      "execution_count": null,
      "outputs": [
        {
          "output_type": "stream",
          "name": "stdout",
          "text": [
            "A    400\n",
            "B    400\n",
            "D    400\n",
            "C    400\n",
            "Name: label, dtype: int64\n"
          ]
        }
      ]
    },
    {
      "cell_type": "code",
      "source": [
        "seed = 42\n",
        "\n",
        "train_df, test_df = train_test_split(adjusted_df, test_size=0.2, random_state=seed, stratify=sampled_df['label'])\n",
        "\n",
        "train_df.reset_index(drop=True, inplace=True)\n",
        "test_df.reset_index(drop=True, inplace=True)\n",
        "\n",
        "print(\"Training DataFrame:\")\n",
        "print(train_df)\n",
        "\n",
        "print(\"\\nTesting DataFrame:\")\n",
        "print(test_df)"
      ],
      "metadata": {
        "colab": {
          "base_uri": "https://localhost:8080/"
        },
        "id": "x1CSSMHAaNx1",
        "outputId": "d0f51a56-73a2-4b0e-f4a7-b3a91b58d022"
      },
      "execution_count": null,
      "outputs": [
        {
          "output_type": "stream",
          "name": "stdout",
          "text": [
            "Training DataFrame:\n",
            "              word label\n",
            "0        addeption     D\n",
            "1          sector.     A\n",
            "2              ian     D\n",
            "3             Its     D\n",
            "4          dessert     D\n",
            "...            ...   ...\n",
            "1275   Information     A\n",
            "1276    metaphosus     B\n",
            "1277      interfit     D\n",
            "1278  Mischievious     B\n",
            "1279    intricinly     B\n",
            "\n",
            "[1280 rows x 2 columns]\n",
            "\n",
            "Testing DataFrame:\n",
            "              word label\n",
            "0           Career     A\n",
            "1        addendent     A\n",
            "2              sea     D\n",
            "3              may     D\n",
            "4     pectiptasure     B\n",
            "..             ...   ...\n",
            "315  persticasious     B\n",
            "316         feelds     C\n",
            "317          white     A\n",
            "318          weath     C\n",
            "319    increasenly     C\n",
            "\n",
            "[320 rows x 2 columns]\n"
          ]
        }
      ]
    },
    {
      "cell_type": "code",
      "source": [
        "train_df['label'].unique()"
      ],
      "metadata": {
        "colab": {
          "base_uri": "https://localhost:8080/"
        },
        "id": "co_x90VIajgA",
        "outputId": "1a97c38c-1a81-48b1-a169-f04219eba3f9"
      },
      "execution_count": null,
      "outputs": [
        {
          "output_type": "execute_result",
          "data": {
            "text/plain": [
              "array(['D', 'A', 'C', 'B'], dtype=object)"
            ]
          },
          "metadata": {},
          "execution_count": 39
        }
      ]
    },
    {
      "cell_type": "code",
      "source": [
        "label_counts = train_df['label'].value_counts()\n",
        "print(label_counts)"
      ],
      "metadata": {
        "colab": {
          "base_uri": "https://localhost:8080/"
        },
        "id": "C-s3gVbwaxPV",
        "outputId": "037bad5a-129a-4771-ca8f-d420194095dd"
      },
      "execution_count": null,
      "outputs": [
        {
          "output_type": "stream",
          "name": "stdout",
          "text": [
            "D    320\n",
            "A    320\n",
            "C    320\n",
            "B    320\n",
            "Name: label, dtype: int64\n"
          ]
        }
      ]
    },
    {
      "cell_type": "code",
      "source": [
        "\n",
        "split_ratio = 0.80\n",
        "split_index = int(len(train_df) * split_ratio)\n",
        "\n",
        "X_train = train_df['word'][:split_index]\n",
        "y_train = train_df['label'][:split_index]\n",
        "\n",
        "split_ratio = 0.20\n",
        "split_index = int(len(train_df) * split_ratio)\n",
        "\n",
        "X_test = train_df['word'][split_index:]\n",
        "y_test = train_df['label'][split_index:]\n",
        "\n",
        "vectorizer = CountVectorizer()\n",
        "\n",
        "X_train_vectorized = vectorizer.fit_transform(X_train)\n",
        "X_test_vectorized = vectorizer.transform(X_test)\n",
        "\n",
        "classifier = MultinomialNB()\n",
        "classifier.fit(X_train_vectorized, y_train)\n",
        "\n",
        "predictions = classifier.predict(X_test_vectorized)\n",
        "\n",
        "accuracy = accuracy_score(y_test, predictions)\n",
        "report = classification_report(y_test, predictions)\n",
        "\n",
        "print(f'Accuracy: {accuracy}')\n",
        "print('Classification Report:')\n",
        "print(report)\n"
      ],
      "metadata": {
        "colab": {
          "base_uri": "https://localhost:8080/"
        },
        "id": "pVJWfYW-bFTs",
        "outputId": "50643801-e95a-459a-a4c9-992465870814"
      },
      "execution_count": null,
      "outputs": [
        {
          "output_type": "stream",
          "name": "stdout",
          "text": [
            "Accuracy: 0.8076171875\n",
            "Classification Report:\n",
            "              precision    recall  f1-score   support\n",
            "\n",
            "           A       0.57      1.00      0.73       259\n",
            "           B       0.99      0.76      0.86       254\n",
            "           C       1.00      0.73      0.84       260\n",
            "           D       1.00      0.75      0.85       251\n",
            "\n",
            "    accuracy                           0.81      1024\n",
            "   macro avg       0.89      0.81      0.82      1024\n",
            "weighted avg       0.89      0.81      0.82      1024\n",
            "\n"
          ]
        }
      ]
    }
  ]
}